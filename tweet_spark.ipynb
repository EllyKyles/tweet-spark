{
 "cells": [
  {
   "cell_type": "code",
   "execution_count": 165,
   "metadata": {},
   "outputs": [],
   "source": [
    "import pyspark as ps\n",
    "import pprint\n",
    "import json\n",
    "from pyspark.sql.types import *\n",
    "import pandas as pd\n",
    "import geopandas as gpd\n",
    "from shapely.geometry import Point, Polygon\n",
    "import matplotlib.pyplot as plt\n",
    "import descartes\n",
    "\n",
    "%matplotlib inline\n",
    "plt.style.use('seaborn-whitegrid')"
   ]
  },
  {
   "cell_type": "code",
   "execution_count": 2,
   "metadata": {},
   "outputs": [
    {
     "data": {
      "text/plain": [
       "['seaborn-dark-palette',\n",
       " 'tableau-colorblind10',\n",
       " 'seaborn-darkgrid',\n",
       " 'fivethirtyeight',\n",
       " 'seaborn-paper',\n",
       " 'seaborn-pastel',\n",
       " 'seaborn-whitegrid',\n",
       " 'seaborn-white',\n",
       " '_classic_test',\n",
       " 'seaborn-notebook',\n",
       " 'bmh',\n",
       " 'grayscale',\n",
       " 'classic',\n",
       " 'fast',\n",
       " 'seaborn-ticks',\n",
       " 'seaborn-colorblind',\n",
       " 'seaborn-dark',\n",
       " 'seaborn-talk',\n",
       " 'ggplot',\n",
       " 'Solarize_Light2',\n",
       " 'seaborn',\n",
       " 'seaborn-muted',\n",
       " 'seaborn-bright',\n",
       " 'dark_background',\n",
       " 'seaborn-poster',\n",
       " 'seaborn-deep']"
      ]
     },
     "execution_count": 2,
     "metadata": {},
     "output_type": "execute_result"
    }
   ],
   "source": [
    "plt.style.available"
   ]
  },
  {
   "cell_type": "code",
   "execution_count": 3,
   "metadata": {},
   "outputs": [],
   "source": [
    "spark = (ps.sql.SparkSession\n",
    "         .builder\n",
    "         .master('local[4]')\n",
    "         .appName('casestudy-twitter')\n",
    "         .getOrCreate()\n",
    "        )\n",
    "sc = spark.sparkContext"
   ]
  },
  {
   "cell_type": "code",
   "execution_count": 4,
   "metadata": {},
   "outputs": [
    {
     "data": {
      "text/html": [
       "\n",
       "        <div>\n",
       "            <p><b>SparkContext</b></p>\n",
       "\n",
       "            <p><a href=\"http://6a6cdf2b9994:4040\">Spark UI</a></p>\n",
       "\n",
       "            <dl>\n",
       "              <dt>Version</dt>\n",
       "                <dd><code>v2.4.4</code></dd>\n",
       "              <dt>Master</dt>\n",
       "                <dd><code>local[4]</code></dd>\n",
       "              <dt>AppName</dt>\n",
       "                <dd><code>casestudy-twitter</code></dd>\n",
       "            </dl>\n",
       "        </div>\n",
       "        "
      ],
      "text/plain": [
       "<SparkContext master=local[4] appName=casestudy-twitter>"
      ]
     },
     "execution_count": 4,
     "metadata": {},
     "output_type": "execute_result"
    }
   ],
   "source": [
    "sc"
   ]
  },
  {
   "cell_type": "code",
   "execution_count": 5,
   "metadata": {},
   "outputs": [
    {
     "data": {
      "text/html": [
       "\n",
       "            <div>\n",
       "                <p><b>SparkSession - in-memory</b></p>\n",
       "                \n",
       "        <div>\n",
       "            <p><b>SparkContext</b></p>\n",
       "\n",
       "            <p><a href=\"http://6a6cdf2b9994:4040\">Spark UI</a></p>\n",
       "\n",
       "            <dl>\n",
       "              <dt>Version</dt>\n",
       "                <dd><code>v2.4.4</code></dd>\n",
       "              <dt>Master</dt>\n",
       "                <dd><code>local[4]</code></dd>\n",
       "              <dt>AppName</dt>\n",
       "                <dd><code>casestudy-twitter</code></dd>\n",
       "            </dl>\n",
       "        </div>\n",
       "        \n",
       "            </div>\n",
       "        "
      ],
      "text/plain": [
       "<pyspark.sql.session.SparkSession at 0x7f502e118dd8>"
      ]
     },
     "execution_count": 5,
     "metadata": {},
     "output_type": "execute_result"
    }
   ],
   "source": [
    "spark"
   ]
  },
  {
   "cell_type": "code",
   "execution_count": 9,
   "metadata": {},
   "outputs": [
    {
     "name": "stdout",
     "output_type": "stream",
     "text": [
      "/home/jovyan/work/tweet-spark/data/info\n"
     ]
    }
   ],
   "source": [
    "!pwd"
   ]
  },
  {
   "cell_type": "code",
   "execution_count": 10,
   "metadata": {},
   "outputs": [],
   "source": [
    "rdd = (sc.textFile('/home/jovyan/work/tweet-spark/data/french_tweets.json')\n",
    "          \n",
    "      )"
   ]
  },
  {
   "cell_type": "code",
   "execution_count": 11,
   "metadata": {},
   "outputs": [
    {
     "data": {
      "text/plain": [
       "['{\"created_at\":\"Wed Apr 26 13:30:45 +0000 2017\",\"id\":857225437122097152,\"id_str\":\"857225437122097152\",\"text\":\"Je comprends pas trop la fin de 13 reasons why \\\\ud83d\\\\ude13\",\"source\":\"\\\\u003ca href=\\\\\"http:\\\\/\\\\/twitter.com\\\\/download\\\\/iphone\\\\\" rel=\\\\\"nofollow\\\\\"\\\\u003eTwitter for iPhone\\\\u003c\\\\/a\\\\u003e\",\"truncated\":false,\"in_reply_to_status_id\":null,\"in_reply_to_status_id_str\":null,\"in_reply_to_user_id\":null,\"in_reply_to_user_id_str\":null,\"in_reply_to_screen_name\":null,\"user\":{\"id\":3137428743,\"id_str\":\"3137428743\",\"name\":\"TA\\\\u00cfNA\\\\u2661\",\"screen_name\":\"tainabmn\",\"location\":null,\"url\":null,\"description\":null,\"protected\":false,\"verified\":false,\"followers_count\":318,\"friends_count\":406,\"listed_count\":2,\"favourites_count\":777,\"statuses_count\":3251,\"created_at\":\"Sun Apr 05 16:03:00 +0000 2015\",\"utc_offset\":null,\"time_zone\":null,\"geo_enabled\":true,\"lang\":\"fr\",\"contributors_enabled\":false,\"is_translator\":false,\"profile_background_color\":\"C0DEED\",\"profile_background_image_url\":\"http:\\\\/\\\\/abs.twimg.com\\\\/images\\\\/themes\\\\/theme1\\\\/bg.png\",\"profile_background_image_url_https\":\"https:\\\\/\\\\/abs.twimg.com\\\\/images\\\\/themes\\\\/theme1\\\\/bg.png\",\"profile_background_tile\":false,\"profile_link_color\":\"1DA1F2\",\"profile_sidebar_border_color\":\"C0DEED\",\"profile_sidebar_fill_color\":\"DDEEF6\",\"profile_text_color\":\"333333\",\"profile_use_background_image\":true,\"profile_image_url\":\"http:\\\\/\\\\/pbs.twimg.com\\\\/profile_images\\\\/857204115981697024\\\\/XcetMiHe_normal.jpg\",\"profile_image_url_https\":\"https:\\\\/\\\\/pbs.twimg.com\\\\/profile_images\\\\/857204115981697024\\\\/XcetMiHe_normal.jpg\",\"profile_banner_url\":\"https:\\\\/\\\\/pbs.twimg.com\\\\/profile_banners\\\\/3137428743\\\\/1492766586\",\"default_profile\":true,\"default_profile_image\":false,\"following\":null,\"follow_request_sent\":null,\"notifications\":null},\"geo\":null,\"coordinates\":null,\"place\":{\"id\":\"4da693e9b39923ab\",\"url\":\"https:\\\\/\\\\/api.twitter.com\\\\/1.1\\\\/geo\\\\/id\\\\/4da693e9b39923ab.json\",\"place_type\":\"city\",\"name\":\"Dozul\\\\u00e9\",\"full_name\":\"Dozul\\\\u00e9, France\",\"country_code\":\"FR\",\"country\":\"France\",\"bounding_box\":{\"type\":\"Polygon\",\"coordinates\":[[[-0.061141,49.208997],[-0.061141,49.250115],[-0.032199,49.250115],[-0.032199,49.208997]]]},\"attributes\":{}},\"contributors\":null,\"is_quote_status\":false,\"retweet_count\":0,\"favorite_count\":0,\"entities\":{\"hashtags\":[],\"urls\":[],\"user_mentions\":[],\"symbols\":[]},\"favorited\":false,\"retweeted\":false,\"filter_level\":\"low\",\"lang\":\"fr\",\"timestamp_ms\":\"1493213445345\"}',\n",
       " '{\"created_at\":\"Wed Apr 26 13:30:45 +0000 2017\",\"id\":857225437088555009,\"id_str\":\"857225437088555009\",\"text\":\"@julesbl99 travailles au lieu de raconter ta vie\",\"display_text_range\":[11,48],\"source\":\"\\\\u003ca href=\\\\\"http:\\\\/\\\\/twitter.com\\\\/download\\\\/iphone\\\\\" rel=\\\\\"nofollow\\\\\"\\\\u003eTwitter for iPhone\\\\u003c\\\\/a\\\\u003e\",\"truncated\":false,\"in_reply_to_status_id\":857220945982967808,\"in_reply_to_status_id_str\":\"857220945982967808\",\"in_reply_to_user_id\":787617474820841472,\"in_reply_to_user_id_str\":\"787617474820841472\",\"in_reply_to_screen_name\":\"julesbl99\",\"user\":{\"id\":2586505687,\"id_str\":\"2586505687\",\"name\":\"Cerpyth\",\"screen_name\":\"Audran_6\",\"location\":null,\"url\":null,\"description\":\"Les gens depensent dl\\'argent qu\\'ils ne gagnent pas pour acheter ds choses dont ils nont pas besoin pr impressionner des gens qu\\'ils n\\'aiment pas. snap: audran_6\",\"protected\":false,\"verified\":false,\"followers_count\":173,\"friends_count\":134,\"listed_count\":1,\"favourites_count\":1015,\"statuses_count\":2922,\"created_at\":\"Tue Jun 24 23:16:43 +0000 2014\",\"utc_offset\":null,\"time_zone\":null,\"geo_enabled\":true,\"lang\":\"fr\",\"contributors_enabled\":false,\"is_translator\":false,\"profile_background_color\":\"C0DEED\",\"profile_background_image_url\":\"http:\\\\/\\\\/abs.twimg.com\\\\/images\\\\/themes\\\\/theme1\\\\/bg.png\",\"profile_background_image_url_https\":\"https:\\\\/\\\\/abs.twimg.com\\\\/images\\\\/themes\\\\/theme1\\\\/bg.png\",\"profile_background_tile\":false,\"profile_link_color\":\"0048B3\",\"profile_sidebar_border_color\":\"C0DEED\",\"profile_sidebar_fill_color\":\"DDEEF6\",\"profile_text_color\":\"333333\",\"profile_use_background_image\":true,\"profile_image_url\":\"http:\\\\/\\\\/pbs.twimg.com\\\\/profile_images\\\\/675445019294212096\\\\/0d1ksXko_normal.jpg\",\"profile_image_url_https\":\"https:\\\\/\\\\/pbs.twimg.com\\\\/profile_images\\\\/675445019294212096\\\\/0d1ksXko_normal.jpg\",\"profile_banner_url\":\"https:\\\\/\\\\/pbs.twimg.com\\\\/profile_banners\\\\/2586505687\\\\/1434792576\",\"default_profile\":false,\"default_profile_image\":false,\"following\":null,\"follow_request_sent\":null,\"notifications\":null},\"geo\":null,\"coordinates\":null,\"place\":{\"id\":\"09ef78b32799b6e8\",\"url\":\"https:\\\\/\\\\/api.twitter.com\\\\/1.1\\\\/geo\\\\/id\\\\/09ef78b32799b6e8.json\",\"place_type\":\"city\",\"name\":\"Orvault\",\"full_name\":\"Orvault, France\",\"country_code\":\"FR\",\"country\":\"France\",\"bounding_box\":{\"type\":\"Polygon\",\"coordinates\":[[[-1.663459,47.239088],[-1.663459,47.309610],[-1.576006,47.309610],[-1.576006,47.239088]]]},\"attributes\":{}},\"contributors\":null,\"is_quote_status\":false,\"retweet_count\":0,\"favorite_count\":0,\"entities\":{\"hashtags\":[],\"urls\":[],\"user_mentions\":[{\"screen_name\":\"julesbl99\",\"name\":\"jules moreaux\",\"id\":787617474820841472,\"id_str\":\"787617474820841472\",\"indices\":[0,10]}],\"symbols\":[]},\"favorited\":false,\"retweeted\":false,\"filter_level\":\"low\",\"lang\":\"fr\",\"timestamp_ms\":\"1493213445337\"}']"
      ]
     },
     "execution_count": 11,
     "metadata": {},
     "output_type": "execute_result"
    }
   ],
   "source": [
    "rdd.take(2)\n"
   ]
  },
  {
   "cell_type": "code",
   "execution_count": 12,
   "metadata": {},
   "outputs": [
    {
     "data": {
      "text/plain": [
       "{'created_at': 'Wed Apr 26 13:30:45 +0000 2017',\n",
       " 'id': 857225437122097152,\n",
       " 'id_str': '857225437122097152',\n",
       " 'text': 'Je comprends pas trop la fin de 13 reasons why 😓',\n",
       " 'source': '<a href=\"http://twitter.com/download/iphone\" rel=\"nofollow\">Twitter for iPhone</a>',\n",
       " 'truncated': False,\n",
       " 'in_reply_to_status_id': None,\n",
       " 'in_reply_to_status_id_str': None,\n",
       " 'in_reply_to_user_id': None,\n",
       " 'in_reply_to_user_id_str': None,\n",
       " 'in_reply_to_screen_name': None,\n",
       " 'user': {'id': 3137428743,\n",
       "  'id_str': '3137428743',\n",
       "  'name': 'TAÏNA♡',\n",
       "  'screen_name': 'tainabmn',\n",
       "  'location': None,\n",
       "  'url': None,\n",
       "  'description': None,\n",
       "  'protected': False,\n",
       "  'verified': False,\n",
       "  'followers_count': 318,\n",
       "  'friends_count': 406,\n",
       "  'listed_count': 2,\n",
       "  'favourites_count': 777,\n",
       "  'statuses_count': 3251,\n",
       "  'created_at': 'Sun Apr 05 16:03:00 +0000 2015',\n",
       "  'utc_offset': None,\n",
       "  'time_zone': None,\n",
       "  'geo_enabled': True,\n",
       "  'lang': 'fr',\n",
       "  'contributors_enabled': False,\n",
       "  'is_translator': False,\n",
       "  'profile_background_color': 'C0DEED',\n",
       "  'profile_background_image_url': 'http://abs.twimg.com/images/themes/theme1/bg.png',\n",
       "  'profile_background_image_url_https': 'https://abs.twimg.com/images/themes/theme1/bg.png',\n",
       "  'profile_background_tile': False,\n",
       "  'profile_link_color': '1DA1F2',\n",
       "  'profile_sidebar_border_color': 'C0DEED',\n",
       "  'profile_sidebar_fill_color': 'DDEEF6',\n",
       "  'profile_text_color': '333333',\n",
       "  'profile_use_background_image': True,\n",
       "  'profile_image_url': 'http://pbs.twimg.com/profile_images/857204115981697024/XcetMiHe_normal.jpg',\n",
       "  'profile_image_url_https': 'https://pbs.twimg.com/profile_images/857204115981697024/XcetMiHe_normal.jpg',\n",
       "  'profile_banner_url': 'https://pbs.twimg.com/profile_banners/3137428743/1492766586',\n",
       "  'default_profile': True,\n",
       "  'default_profile_image': False,\n",
       "  'following': None,\n",
       "  'follow_request_sent': None,\n",
       "  'notifications': None},\n",
       " 'geo': None,\n",
       " 'coordinates': None,\n",
       " 'place': {'id': '4da693e9b39923ab',\n",
       "  'url': 'https://api.twitter.com/1.1/geo/id/4da693e9b39923ab.json',\n",
       "  'place_type': 'city',\n",
       "  'name': 'Dozulé',\n",
       "  'full_name': 'Dozulé, France',\n",
       "  'country_code': 'FR',\n",
       "  'country': 'France',\n",
       "  'bounding_box': {'type': 'Polygon',\n",
       "   'coordinates': [[[-0.061141, 49.208997],\n",
       "     [-0.061141, 49.250115],\n",
       "     [-0.032199, 49.250115],\n",
       "     [-0.032199, 49.208997]]]},\n",
       "  'attributes': {}},\n",
       " 'contributors': None,\n",
       " 'is_quote_status': False,\n",
       " 'retweet_count': 0,\n",
       " 'favorite_count': 0,\n",
       " 'entities': {'hashtags': [], 'urls': [], 'user_mentions': [], 'symbols': []},\n",
       " 'favorited': False,\n",
       " 'retweeted': False,\n",
       " 'filter_level': 'low',\n",
       " 'lang': 'fr',\n",
       " 'timestamp_ms': '1493213445345'}"
      ]
     },
     "execution_count": 12,
     "metadata": {},
     "output_type": "execute_result"
    }
   ],
   "source": [
    "json.loads(rdd.first())"
   ]
  },
  {
   "cell_type": "code",
   "execution_count": 14,
   "metadata": {},
   "outputs": [],
   "source": [
    "def string_to_json(string):\n",
    "    try:\n",
    "        return json.loads(string)\n",
    "    except:\n",
    "        return 0\n",
    "    "
   ]
  },
  {
   "cell_type": "code",
   "execution_count": 56,
   "metadata": {},
   "outputs": [],
   "source": [
    "\n",
    "        \n",
    "def get_columns(row):\n",
    "    try:\n",
    "        return (row['id_str'], row['created_at'], \n",
    "                row['favorite_count'],\n",
    "                row['quoted_status']['favorite_count'],\n",
    "                row['text'], \n",
    "                row['user']['id_str'], \n",
    "                row['user']['name'], \n",
    "                row['place']['name'], \n",
    "                row['place']['country_code'],\n",
    "                row['place']['bounding_box']['coordinates'][0][0][1],\n",
    "                row['place']['bounding_box']['coordinates'][0][0][0])\n",
    "    except: \n",
    "        return 0\n",
    "    \n",
    "        \n",
    "        \n",
    "        \n",
    "rdd1 = (rdd.map(string_to_json)\n",
    "           .filter(lambda x: x != 0))  "
   ]
  },
  {
   "cell_type": "code",
   "execution_count": 57,
   "metadata": {},
   "outputs": [],
   "source": [
    "rdd2 = rdd1.map(get_columns).filter(lambda x: x != 0)\n"
   ]
  },
  {
   "cell_type": "code",
   "execution_count": 58,
   "metadata": {},
   "outputs": [
    {
     "data": {
      "text/plain": [
       "[('857225444831240193',\n",
       "  'Wed Apr 26 13:30:47 +0000 2017',\n",
       "  0,\n",
       "  16,\n",
       "  \"La macronie En Marche ! commence déjà à s'écharper avant d'avoir commencé :\\n\\nhttps://t.co/9f4YhjMFaG\",\n",
       "  '273524713',\n",
       "  'VIAL Pierre',\n",
       "  'Gréoux-les-Bains',\n",
       "  'FR',\n",
       "  43.718485,\n",
       "  5.781315)]"
      ]
     },
     "execution_count": 58,
     "metadata": {},
     "output_type": "execute_result"
    }
   ],
   "source": [
    "rdd2.take(1)"
   ]
  },
  {
   "cell_type": "code",
   "execution_count": 63,
   "metadata": {},
   "outputs": [],
   "source": [
    "def casting_function(row):\n",
    "    (tweet_id, time, favorite_counts, qc ,tweet_text, user_id, user_name, place, country ,cor1, cor2) = row\n",
    "    return (tweet_id, time, int(favorite_counts),int(qc),tweet_text, user_id, user_name, place, country ,float(cor1), float(cor2))\n",
    "\n",
    "\n",
    "trans = rdd2.map(casting_function)"
   ]
  },
  {
   "cell_type": "code",
   "execution_count": 64,
   "metadata": {},
   "outputs": [
    {
     "data": {
      "text/plain": [
       "[('857225444831240193',\n",
       "  'Wed Apr 26 13:30:47 +0000 2017',\n",
       "  0,\n",
       "  16,\n",
       "  \"La macronie En Marche ! commence déjà à s'écharper avant d'avoir commencé :\\n\\nhttps://t.co/9f4YhjMFaG\",\n",
       "  '273524713',\n",
       "  'VIAL Pierre',\n",
       "  'Gréoux-les-Bains',\n",
       "  'FR',\n",
       "  43.718485,\n",
       "  5.781315)]"
      ]
     },
     "execution_count": 64,
     "metadata": {},
     "output_type": "execute_result"
    }
   ],
   "source": [
    "trans.take(1)"
   ]
  },
  {
   "cell_type": "code",
   "execution_count": 67,
   "metadata": {},
   "outputs": [],
   "source": [
    "schema_test = StructType( [\n",
    "    StructField('tweet_id',     StringType(), True),\n",
    "    StructField('time',  StringType(), True),\n",
    "    StructField('favorite_counts',  IntegerType(), True),\n",
    "    StructField('quoted_counts',  IntegerType(), True),\n",
    "    StructField('tweet_text',  StringType(), True),\n",
    "    StructField('user_id',  StringType(), True),\n",
    "    StructField('user_name',  StringType(), True),\n",
    "    StructField('place',  StringType(), True),\n",
    "    StructField('country',  StringType(), True),\n",
    "    StructField('longitude', FloatType(), True),\n",
    "    StructField('latitude', FloatType(), True)\n",
    "])"
   ]
  },
  {
   "cell_type": "code",
   "execution_count": 92,
   "metadata": {},
   "outputs": [],
   "source": [
    "df = spark.createDataFrame(trans, schema_test)"
   ]
  },
  {
   "cell_type": "code",
   "execution_count": 69,
   "metadata": {},
   "outputs": [],
   "source": [
    "df.createOrReplaceTempView('tweets')"
   ]
  },
  {
   "cell_type": "code",
   "execution_count": 70,
   "metadata": {},
   "outputs": [],
   "source": [
    "df2 = spark.sql(\"\"\"\n",
    "SELECT count(*)\n",
    "  FROM tweets\n",
    "  where quoted_counts >100\n",
    "\"\"\")"
   ]
  },
  {
   "cell_type": "code",
   "execution_count": 71,
   "metadata": {},
   "outputs": [
    {
     "name": "stdout",
     "output_type": "stream",
     "text": [
      "+--------+\n",
      "|count(1)|\n",
      "+--------+\n",
      "|    7480|\n",
      "+--------+\n",
      "\n"
     ]
    }
   ],
   "source": [
    "df2.show()"
   ]
  },
  {
   "cell_type": "code",
   "execution_count": 72,
   "metadata": {
    "scrolled": true
   },
   "outputs": [
    {
     "name": "stdout",
     "output_type": "stream",
     "text": [
      "root\n",
      " |-- count(1): long (nullable = false)\n",
      "\n"
     ]
    }
   ],
   "source": [
    "df2.printSchema()"
   ]
  },
  {
   "cell_type": "code",
   "execution_count": 73,
   "metadata": {},
   "outputs": [],
   "source": [
    "top_tweeters = spark.sql(\"\"\"\n",
    "SELECT user_id, user_name, count(*) as total\n",
    "  FROM tweets\n",
    " GROUP BY user_id,\n",
    "          user_name\n",
    " ORDER BY total DESC\n",
    "\"\"\")"
   ]
  },
  {
   "cell_type": "code",
   "execution_count": 74,
   "metadata": {},
   "outputs": [
    {
     "name": "stdout",
     "output_type": "stream",
     "text": [
      "+------------------+-------------------+-----+\n",
      "|           user_id|          user_name|total|\n",
      "+------------------+-------------------+-----+\n",
      "|        2645880732|      Ayoub LaFarge|  199|\n",
      "|        3041669279|                 🙄|  191|\n",
      "|        1108882074|              stacy|  177|\n",
      "|         559888628|              Acram|  176|\n",
      "|        4054325373|    Princesse Kebab|  176|\n",
      "|        2589701544|           Fujito🐭|  153|\n",
      "|         527361798|              vic ♡|  140|\n",
      "|703624667626672128|           miłość ♡|  139|\n",
      "|        2498837641|                 💸|  134|\n",
      "|        2213796670|           Alexis🔰|  130|\n",
      "|        2577810058|         rashoumon.|  124|\n",
      "|         493443899|     carole lemaire|  110|\n",
      "|823601516737101824|MARTMAS MARTIN 🇫🇷|  104|\n",
      "|        2151547656|Jɪᴍɪɴ 내사랑 💆🏻🌹|  100|\n",
      "|        3930216495|          idn n idc|   98|\n",
      "|        2851499375|          dead soul|   98|\n",
      "|         373264785|             Cécile|   98|\n",
      "|        2148176331|   ANASEOK IS OTP ♡|   93|\n",
      "|         601142831|       Angélique 🌺|   86|\n",
      "|        3028484290|      Morgane | HSJ|   83|\n",
      "+------------------+-------------------+-----+\n",
      "only showing top 20 rows\n",
      "\n"
     ]
    }
   ],
   "source": [
    "top_tweeters.show()"
   ]
  },
  {
   "cell_type": "code",
   "execution_count": 76,
   "metadata": {},
   "outputs": [],
   "source": [
    "##Emmanuel Macron and Marine Le Pen \n",
    "\n",
    "query2 = '''\n",
    "SELECT user_id, user_name,\n",
    "COUNT(tweet_id) as Total_tweet, \n",
    "SUM(CASE WHEN (tweet_text LIKE '%Emmanuel%' OR tweet_text LIKE '%emmanuel%' OR tweet_text LIKE '%Macron%' OR tweet_text LIKE '%macron%') THEN 1 ELSE 0 END) AS count_emmanual,\n",
    "SUM(CASE WHEN (tweet_text LIKE '%Marine%' OR tweet_text LIKE '%marine%' OR tweet_text LIKE '%Le Pen%' OR tweet_text LIKE '%le pen%') THEN 1 ELSE 0 END) AS count_marine\n",
    "FROM tweets\n",
    "GROUP BY user_id, user_name\n",
    "ORDER BY count_emmanual DESC, count_marine DESC\n",
    "'''\n"
   ]
  },
  {
   "cell_type": "code",
   "execution_count": 77,
   "metadata": {},
   "outputs": [],
   "source": [
    "df2 = spark.sql(query2)"
   ]
  },
  {
   "cell_type": "code",
   "execution_count": 78,
   "metadata": {},
   "outputs": [
    {
     "name": "stdout",
     "output_type": "stream",
     "text": [
      "+------------------+--------------------+-----------+--------------+------------+\n",
      "|           user_id|           user_name|Total_tweet|count_emmanual|count_marine|\n",
      "+------------------+--------------------+-----------+--------------+------------+\n",
      "|        3245436977|     Laura Biancheri|         28|            19|           7|\n",
      "|747514010707320832|         Corona75009|         50|            15|          23|\n",
      "|         130481825|Cyrille [No Rotonde]|         35|            15|           1|\n",
      "|         373088455|       Uberstitution|         42|            15|           0|\n",
      "|        1080786871|       Didus Ineptus|         79|            14|           6|\n",
      "|820221265512374272|AdelineC FN84 circo4|         16|            13|           5|\n",
      "|833319607142346752|           Romuald B|         64|            12|          11|\n",
      "|          89541537|           Françoise|         62|            11|          23|\n",
      "|          96295783|Dubitatif 71🇫🇷🇺🇸|         32|            11|           0|\n",
      "|737031927216099328|     Marie Thepenier|         24|            11|           0|\n",
      "|        3235836113|               sam94|         54|             9|           0|\n",
      "|802539611159465984|       Joël QUARTIER|          9|             8|           0|\n",
      "|787053033502957568|     KarinTPasMacron|         10|             8|           0|\n",
      "|        3121156491|        Eric VINCENT|         10|             8|           0|\n",
      "|823601516737101824| MARTMAS MARTIN 🇫🇷|        104|             6|           4|\n",
      "|         317060188|    Nicolas LECAILLE|         17|             6|           0|\n",
      "|         139781268|             Sinclar|         13|             6|           0|\n",
      "|        2220365625|     bernard lambert|         20|             5|           3|\n",
      "|838472939355918336|            Carine M|         10|             5|           0|\n",
      "|        1674097027|   Catherine Rouvier|         29|             5|           0|\n",
      "+------------------+--------------------+-----------+--------------+------------+\n",
      "only showing top 20 rows\n",
      "\n"
     ]
    }
   ],
   "source": [
    "df2.show()"
   ]
  },
  {
   "cell_type": "code",
   "execution_count": 81,
   "metadata": {},
   "outputs": [
    {
     "name": "stdout",
     "output_type": "stream",
     "text": [
      "+--------+\n",
      "|count(1)|\n",
      "+--------+\n",
      "|   25968|\n",
      "+--------+\n",
      "\n"
     ]
    }
   ],
   "source": [
    "count = spark.sql('''SELECT COUNT(*) FROM tweets''')\n",
    "count.show()"
   ]
  },
  {
   "cell_type": "code",
   "execution_count": 82,
   "metadata": {},
   "outputs": [
    {
     "name": "stdout",
     "output_type": "stream",
     "text": [
      "+-----------------------+\n",
      "|count(DISTINCT user_id)|\n",
      "+-----------------------+\n",
      "|                   7279|\n",
      "+-----------------------+\n",
      "\n"
     ]
    }
   ],
   "source": [
    "unique_user_id = spark.sql('''SELECT COUNT(DISTINCT user_id) FROM tweets''')\n",
    "unique_user_id.show()"
   ]
  },
  {
   "cell_type": "code",
   "execution_count": 83,
   "metadata": {},
   "outputs": [],
   "source": [
    "query4 = '''\n",
    "SELECT SUM(CASE WHEN a.count_emmanual > a.count_marine THEN 1 ELSE 0 END) AS emmanual,\n",
    "SUM(CASE WHEN a.count_emmanual < a.count_marine THEN 1 ELSE 0 END) AS marine,\n",
    "COUNT(1)\n",
    "FROM (SELECT * FROM tweets1 WHERE count_emmanual != 0 OR count_marine != 0) AS a'''"
   ]
  },
  {
   "cell_type": "code",
   "execution_count": 84,
   "metadata": {},
   "outputs": [
    {
     "name": "stdout",
     "output_type": "stream",
     "text": [
      "+--------+------+--------+\n",
      "|emmanual|marine|count(1)|\n",
      "+--------+------+--------+\n",
      "|     345|   144|     528|\n",
      "+--------+------+--------+\n",
      "\n"
     ]
    }
   ],
   "source": [
    "df4 = spark.sql(query4)\n",
    "df4.show()"
   ]
  },
  {
   "cell_type": "code",
   "execution_count": 79,
   "metadata": {},
   "outputs": [],
   "source": [
    "df2.createOrReplaceTempView('tweets1')"
   ]
  },
  {
   "cell_type": "code",
   "execution_count": 80,
   "metadata": {},
   "outputs": [
    {
     "name": "stdout",
     "output_type": "stream",
     "text": [
      "+-------------------+\n",
      "|interest_in_politic|\n",
      "+-------------------+\n",
      "|                528|\n",
      "+-------------------+\n",
      "\n"
     ]
    }
   ],
   "source": [
    "query3 = '''\n",
    "SELECT COUNT(*) AS interest_in_politic\n",
    "FROM tweets1\n",
    "WHERE count_emmanual != 0 OR count_marine != 0'''\n",
    "\n",
    "df3 = spark.sql(query3)\n",
    "df3.show()"
   ]
  },
  {
   "cell_type": "code",
   "execution_count": 112,
   "metadata": {},
   "outputs": [],
   "source": [
    "new_df = spark.sql(\"\"\"\n",
    "SELECT tweet_id, user_id,user_name,place, longitude, latitude, tweet_text,\n",
    "       CASE WHEN tweet_text rLIKE '[Mm]acron' THEN 1 ELSE 0 END AS E_count,\n",
    "       CASE WHEN tweet_text rLIKE '[Ll]e [Pp]en' THEN 1 ELSE 0 END as M_count\n",
    "  FROM tweets\n",
    "\"\"\")"
   ]
  },
  {
   "cell_type": "code",
   "execution_count": 113,
   "metadata": {},
   "outputs": [],
   "source": [
    "new_df.createOrReplaceTempView('tweets1')"
   ]
  },
  {
   "cell_type": "code",
   "execution_count": 114,
   "metadata": {},
   "outputs": [
    {
     "name": "stdout",
     "output_type": "stream",
     "text": [
      "+------------------+------------------+--------------------+--------------------+---------+---------+--------------------+-------+-------+\n",
      "|          tweet_id|           user_id|           user_name|               place|longitude| latitude|          tweet_text|E_count|M_count|\n",
      "+------------------+------------------+--------------------+--------------------+---------+---------+--------------------+-------+-------+\n",
      "|857225444831240193|         273524713|         VIAL Pierre|    Gréoux-les-Bains|43.718487| 5.781315|La macronie En Ma...|      1|      0|\n",
      "|857225468659068929|         914331169|  doublevé-haine-bae|  Bonneuil-sur-Marne|48.756695| 2.471827|Il  bégaye comme ...|      0|      0|\n",
      "|857225470206758913|         599128359|              Freddy|             Avroult| 50.61706| 2.124123|.@MaitreGims alor...|      0|      0|\n",
      "|857225535923126275|         559888628|               Acram|         Survilliers|49.091446| 2.530875|Je supporte pas c...|      0|      0|\n",
      "|857225601635274752|          86313409|     jacquie rinaldi|          South West|49.882473|-6.368504|&gt; all the #kni...|      0|      0|\n",
      "|857225623005261824|         268818762|               Dylan|              Ermont|48.976276| 2.241983|Dit-il avant de v...|      0|      0|\n",
      "|857225630693412864|        1217710249|      Julien Ramaugé|Villeneuve-Saint-...| 48.71441| 2.425664|@pierrejovanovic ...|      0|      0|\n",
      "|857225707323355137|        1015318136|                 Man|    Faches-Thumesnil|  50.5785| 3.053377|allez y allez y, ...|      0|      0|\n",
      "|857225808179539969|        1408738482|         Trsr Jr. 🦅|            Grenoble| 45.15391| 5.677921|Coyote à jamais r...|      0|      0|\n",
      "|857225826282156032|         610724205|    P⭕️STBADIVOIRIEN|       Choisy-le-Roi| 48.74977| 2.398035|Le chèque de 95 m...|      0|      0|\n",
      "|857225826890387460|        2586330296|FROIDE COMME L'AMOUR|            Mérignac| 44.79992|-0.756843|Nope, Kendall, Ko...|      0|      0|\n",
      "|857225882796249088|         195838151|       Matthieu  Roy|               Dijon|47.286236| 4.962469|Le piège Le Pen f...|      1|      1|\n",
      "|857226065575645184|          83852173|   Peter Anderson 📎|Boulogne-Billancourt|48.821484| 2.222881|Go buy some Skitt...|      0|      0|\n",
      "|857226090229760000|        1729868803|                gngn| L'Aiguillon-sur-Vie|46.650284|-1.888237|Go lire le thread...|      0|      0|\n",
      "|857226097880170496|         594048517|                jade|               Paris| 48.81552| 2.224101|Au cas où vous pa...|      0|      0|\n",
      "|857226186036006912|          53336284|        Hugo Travers|               Paris| 48.81552| 2.224101|Voilà. #Whirlpool...|      0|      0|\n",
      "|857226192902119424|711627284449464321|vive la contrenature|            Neufbosc| 49.63268| 1.335707|hihihiiiiiiiiii🙊...|      0|      0|\n",
      "|857226222719336449|         256549162|      Kawhi Leonard.|          South East|50.574608|-1.957296|😂😂😂😎 https://...|      0|      0|\n",
      "|857226274636484609|         268818762|               Dylan|              Ermont|48.976276| 2.241983|L'hypothèse que L...|      0|      1|\n",
      "|857226344526204929|          65621838|               Begum|          South West|49.882473|-6.368504|@Romaishungry htt...|      0|      0|\n",
      "+------------------+------------------+--------------------+--------------------+---------+---------+--------------------+-------+-------+\n",
      "only showing top 20 rows\n",
      "\n"
     ]
    }
   ],
   "source": [
    "new_df.show()"
   ]
  },
  {
   "cell_type": "code",
   "execution_count": 118,
   "metadata": {},
   "outputs": [],
   "source": [
    "df2 = spark.sql(\"\"\"\n",
    "SELECT user_id, user_name, COUNT(tweet_text) as total_tweets, SUM(E_count) as total_E, SUM(M_count) as total_M\n",
    "  FROM tweets1\n",
    " GROUP BY user_id, user_name\n",
    " \n",
    " ORDER BY total_tweets DESC, total_E DESC, total_M DESC\n",
    "\n",
    "\"\"\")"
   ]
  },
  {
   "cell_type": "code",
   "execution_count": 119,
   "metadata": {},
   "outputs": [
    {
     "name": "stdout",
     "output_type": "stream",
     "text": [
      "+------------------+-------------------+------------+-------+-------+\n",
      "|           user_id|          user_name|total_tweets|total_E|total_M|\n",
      "+------------------+-------------------+------------+-------+-------+\n",
      "|        2645880732|      Ayoub LaFarge|         199|      1|      1|\n",
      "|        3041669279|                 🙄|         191|      0|      0|\n",
      "|        1108882074|              stacy|         177|      2|      0|\n",
      "|        4054325373|    Princesse Kebab|         176|      0|      2|\n",
      "|         559888628|              Acram|         176|      0|      1|\n",
      "|        2589701544|           Fujito🐭|         153|      2|      0|\n",
      "|         527361798|              vic ♡|         140|      0|      0|\n",
      "|703624667626672128|           miłość ♡|         139|      1|      0|\n",
      "|        2498837641|                 💸|         134|      1|      0|\n",
      "|        2213796670|           Alexis🔰|         130|      1|      1|\n",
      "|        2577810058|         rashoumon.|         124|      0|      0|\n",
      "|         493443899|     carole lemaire|         110|      5|      0|\n",
      "|823601516737101824|MARTMAS MARTIN 🇫🇷|         104|      6|      0|\n",
      "|        2151547656|Jɪᴍɪɴ 내사랑 💆🏻🌹|         100|      0|      0|\n",
      "|         373264785|             Cécile|          98|      1|      0|\n",
      "|        3930216495|          idn n idc|          98|      0|      0|\n",
      "|        2851499375|          dead soul|          98|      0|      0|\n",
      "|        2148176331|   ANASEOK IS OTP ♡|          93|      0|      0|\n",
      "|         601142831|       Angélique 🌺|          86|      0|      0|\n",
      "|        2935855341|             mathou|          83|      0|      0|\n",
      "+------------------+-------------------+------------+-------+-------+\n",
      "only showing top 20 rows\n",
      "\n"
     ]
    }
   ],
   "source": [
    "df2.show()"
   ]
  },
  {
   "cell_type": "code",
   "execution_count": 93,
   "metadata": {},
   "outputs": [],
   "source": [
    "p_df = df.toPandas()"
   ]
  },
  {
   "cell_type": "code",
   "execution_count": 94,
   "metadata": {},
   "outputs": [
    {
     "data": {
      "text/html": [
       "<div>\n",
       "<style scoped>\n",
       "    .dataframe tbody tr th:only-of-type {\n",
       "        vertical-align: middle;\n",
       "    }\n",
       "\n",
       "    .dataframe tbody tr th {\n",
       "        vertical-align: top;\n",
       "    }\n",
       "\n",
       "    .dataframe thead th {\n",
       "        text-align: right;\n",
       "    }\n",
       "</style>\n",
       "<table border=\"1\" class=\"dataframe\">\n",
       "  <thead>\n",
       "    <tr style=\"text-align: right;\">\n",
       "      <th></th>\n",
       "      <th>tweet_id</th>\n",
       "      <th>time</th>\n",
       "      <th>favorite_counts</th>\n",
       "      <th>quoted_counts</th>\n",
       "      <th>tweet_text</th>\n",
       "      <th>user_id</th>\n",
       "      <th>user_name</th>\n",
       "      <th>place</th>\n",
       "      <th>country</th>\n",
       "      <th>longitude</th>\n",
       "      <th>latitude</th>\n",
       "    </tr>\n",
       "  </thead>\n",
       "  <tbody>\n",
       "    <tr>\n",
       "      <th>0</th>\n",
       "      <td>857225444831240193</td>\n",
       "      <td>Wed Apr 26 13:30:47 +0000 2017</td>\n",
       "      <td>0</td>\n",
       "      <td>16</td>\n",
       "      <td>La macronie En Marche ! commence déjà à s'écha...</td>\n",
       "      <td>273524713</td>\n",
       "      <td>VIAL Pierre</td>\n",
       "      <td>Gréoux-les-Bains</td>\n",
       "      <td>FR</td>\n",
       "      <td>43.718487</td>\n",
       "      <td>5.781315</td>\n",
       "    </tr>\n",
       "    <tr>\n",
       "      <th>1</th>\n",
       "      <td>857225468659068929</td>\n",
       "      <td>Wed Apr 26 13:30:52 +0000 2017</td>\n",
       "      <td>0</td>\n",
       "      <td>51</td>\n",
       "      <td>Il  bégaye comme un petit qui s'est fait voler...</td>\n",
       "      <td>914331169</td>\n",
       "      <td>doublevé-haine-bae</td>\n",
       "      <td>Bonneuil-sur-Marne</td>\n",
       "      <td>FR</td>\n",
       "      <td>48.756695</td>\n",
       "      <td>2.471827</td>\n",
       "    </tr>\n",
       "    <tr>\n",
       "      <th>2</th>\n",
       "      <td>857225470206758913</td>\n",
       "      <td>Wed Apr 26 13:30:53 +0000 2017</td>\n",
       "      <td>0</td>\n",
       "      <td>2</td>\n",
       "      <td>.@MaitreGims alors on joue les divas, on se pr...</td>\n",
       "      <td>599128359</td>\n",
       "      <td>Freddy</td>\n",
       "      <td>Avroult</td>\n",
       "      <td>FR</td>\n",
       "      <td>50.617062</td>\n",
       "      <td>2.124123</td>\n",
       "    </tr>\n",
       "    <tr>\n",
       "      <th>3</th>\n",
       "      <td>857225535923126275</td>\n",
       "      <td>Wed Apr 26 13:31:08 +0000 2017</td>\n",
       "      <td>0</td>\n",
       "      <td>86</td>\n",
       "      <td>Je supporte pas ce genre de personnes https://...</td>\n",
       "      <td>559888628</td>\n",
       "      <td>Acram</td>\n",
       "      <td>Survilliers</td>\n",
       "      <td>FR</td>\n",
       "      <td>49.091446</td>\n",
       "      <td>2.530875</td>\n",
       "    </tr>\n",
       "    <tr>\n",
       "      <th>4</th>\n",
       "      <td>857225601635274752</td>\n",
       "      <td>Wed Apr 26 13:31:24 +0000 2017</td>\n",
       "      <td>0</td>\n",
       "      <td>1</td>\n",
       "      <td>&amp;gt; all the #knitters say #ThankYou to you f ...</td>\n",
       "      <td>86313409</td>\n",
       "      <td>jacquie rinaldi</td>\n",
       "      <td>South West</td>\n",
       "      <td>GB</td>\n",
       "      <td>49.882473</td>\n",
       "      <td>-6.368504</td>\n",
       "    </tr>\n",
       "  </tbody>\n",
       "</table>\n",
       "</div>"
      ],
      "text/plain": [
       "             tweet_id                            time  favorite_counts  \\\n",
       "0  857225444831240193  Wed Apr 26 13:30:47 +0000 2017                0   \n",
       "1  857225468659068929  Wed Apr 26 13:30:52 +0000 2017                0   \n",
       "2  857225470206758913  Wed Apr 26 13:30:53 +0000 2017                0   \n",
       "3  857225535923126275  Wed Apr 26 13:31:08 +0000 2017                0   \n",
       "4  857225601635274752  Wed Apr 26 13:31:24 +0000 2017                0   \n",
       "\n",
       "   quoted_counts                                         tweet_text  \\\n",
       "0             16  La macronie En Marche ! commence déjà à s'écha...   \n",
       "1             51  Il  bégaye comme un petit qui s'est fait voler...   \n",
       "2              2  .@MaitreGims alors on joue les divas, on se pr...   \n",
       "3             86  Je supporte pas ce genre de personnes https://...   \n",
       "4              1  &gt; all the #knitters say #ThankYou to you f ...   \n",
       "\n",
       "     user_id           user_name               place country  longitude  \\\n",
       "0  273524713         VIAL Pierre    Gréoux-les-Bains      FR  43.718487   \n",
       "1  914331169  doublevé-haine-bae  Bonneuil-sur-Marne      FR  48.756695   \n",
       "2  599128359              Freddy             Avroult      FR  50.617062   \n",
       "3  559888628               Acram         Survilliers      FR  49.091446   \n",
       "4   86313409     jacquie rinaldi          South West      GB  49.882473   \n",
       "\n",
       "   latitude  \n",
       "0  5.781315  \n",
       "1  2.471827  \n",
       "2  2.124123  \n",
       "3  2.530875  \n",
       "4 -6.368504  "
      ]
     },
     "execution_count": 94,
     "metadata": {},
     "output_type": "execute_result"
    }
   ],
   "source": [
    "p_df.head(5)"
   ]
  },
  {
   "cell_type": "code",
   "execution_count": 122,
   "metadata": {},
   "outputs": [],
   "source": [
    "p_df['Macron'] = p_df['tweet_text'].str.contains(r'([Ee]mmanuel|[Mm]acron)')*1\n",
    "p_df['Le Pen'] = p_df['tweet_text'].str.contains(r'([Mm]arine|[Ll]e [Pp]en)')*1"
   ]
  },
  {
   "cell_type": "code",
   "execution_count": 123,
   "metadata": {},
   "outputs": [
    {
     "data": {
      "text/html": [
       "<div>\n",
       "<style scoped>\n",
       "    .dataframe tbody tr th:only-of-type {\n",
       "        vertical-align: middle;\n",
       "    }\n",
       "\n",
       "    .dataframe tbody tr th {\n",
       "        vertical-align: top;\n",
       "    }\n",
       "\n",
       "    .dataframe thead th {\n",
       "        text-align: right;\n",
       "    }\n",
       "</style>\n",
       "<table border=\"1\" class=\"dataframe\">\n",
       "  <thead>\n",
       "    <tr style=\"text-align: right;\">\n",
       "      <th></th>\n",
       "      <th>tweet_id</th>\n",
       "      <th>time</th>\n",
       "      <th>favorite_counts</th>\n",
       "      <th>quoted_counts</th>\n",
       "      <th>tweet_text</th>\n",
       "      <th>user_id</th>\n",
       "      <th>user_name</th>\n",
       "      <th>place</th>\n",
       "      <th>country</th>\n",
       "      <th>longitude</th>\n",
       "      <th>latitude</th>\n",
       "      <th>Macron</th>\n",
       "      <th>Le Pen</th>\n",
       "    </tr>\n",
       "  </thead>\n",
       "  <tbody>\n",
       "    <tr>\n",
       "      <th>0</th>\n",
       "      <td>857225444831240193</td>\n",
       "      <td>Wed Apr 26 13:30:47 +0000 2017</td>\n",
       "      <td>0</td>\n",
       "      <td>16</td>\n",
       "      <td>La macronie En Marche ! commence déjà à s'écha...</td>\n",
       "      <td>273524713</td>\n",
       "      <td>VIAL Pierre</td>\n",
       "      <td>Gréoux-les-Bains</td>\n",
       "      <td>FR</td>\n",
       "      <td>43.718487</td>\n",
       "      <td>5.781315</td>\n",
       "      <td>1</td>\n",
       "      <td>0</td>\n",
       "    </tr>\n",
       "  </tbody>\n",
       "</table>\n",
       "</div>"
      ],
      "text/plain": [
       "             tweet_id                            time  favorite_counts  \\\n",
       "0  857225444831240193  Wed Apr 26 13:30:47 +0000 2017                0   \n",
       "\n",
       "   quoted_counts                                         tweet_text  \\\n",
       "0             16  La macronie En Marche ! commence déjà à s'écha...   \n",
       "\n",
       "     user_id    user_name             place country  longitude  latitude  \\\n",
       "0  273524713  VIAL Pierre  Gréoux-les-Bains      FR  43.718487  5.781315   \n",
       "\n",
       "   Macron  Le Pen  \n",
       "0       1       0  "
      ]
     },
     "execution_count": 123,
     "metadata": {},
     "output_type": "execute_result"
    }
   ],
   "source": [
    "p_df.head(1)"
   ]
  },
  {
   "cell_type": "code",
   "execution_count": 139,
   "metadata": {},
   "outputs": [],
   "source": [
    "p_df['date'] = p_df['time'].str.split().str[1:3]\n",
    "p_df['year'] = p_df['time'].str.split().str[-1]"
   ]
  },
  {
   "cell_type": "code",
   "execution_count": 140,
   "metadata": {},
   "outputs": [
    {
     "data": {
      "text/plain": [
       "[Apr, 27]    11865\n",
       "[Apr, 28]    10064\n",
       "[Apr, 26]     3655\n",
       "[Apr, 29]      384\n",
       "Name: date, dtype: int64"
      ]
     },
     "execution_count": 140,
     "metadata": {},
     "output_type": "execute_result"
    }
   ],
   "source": [
    "# the data was gathered during april 27 to 29\n",
    "p_df['date'].value_counts()"
   ]
  },
  {
   "cell_type": "code",
   "execution_count": 147,
   "metadata": {},
   "outputs": [],
   "source": [
    "p_df['day'] = p_df['date'].str[1]"
   ]
  },
  {
   "cell_type": "code",
   "execution_count": 142,
   "metadata": {},
   "outputs": [
    {
     "data": {
      "text/plain": [
       "2017    25968\n",
       "Name: year, dtype: int64"
      ]
     },
     "execution_count": 142,
     "metadata": {},
     "output_type": "execute_result"
    }
   ],
   "source": [
    "# only data's year is 2017\n",
    "p_df['year'].value_counts()"
   ]
  },
  {
   "cell_type": "code",
   "execution_count": 143,
   "metadata": {},
   "outputs": [
    {
     "data": {
      "text/plain": [
       "(25968, 15)"
      ]
     },
     "execution_count": 143,
     "metadata": {},
     "output_type": "execute_result"
    }
   ],
   "source": [
    "p_df.shape"
   ]
  },
  {
   "cell_type": "code",
   "execution_count": 148,
   "metadata": {},
   "outputs": [
    {
     "data": {
      "image/png": "[encoded data removed]",
      "text/plain": [
       "<Figure size 432x288 with 1 Axes>"
      ]
     },
     "metadata": {
      "needs_background": "light"
     },
     "output_type": "display_data"
    }
   ],
   "source": [
    "import matplotlib.pyplot as plt\n",
    "%matplotlib inline\n",
    "p_df.groupby('day').agg({'Macron' : 'sum', 'Le Pen': 'sum'}).plot()\n",
    "plt.title(\"The number of tweet by day\")\n",
    "plt.xlabel(\"April of 2017\")\n",
    "plt.savefig(\"pic.png\")"
   ]
  },
  {
   "cell_type": "code",
   "execution_count": 149,
   "metadata": {},
   "outputs": [],
   "source": [
    "# select only tweets that mentioned either \"Macron\" or \"Le Pen\"\n",
    "p_df_subset = p_df[(p_df['Macron']>0) |(p_df['Le Pen']>0)]"
   ]
  },
  {
   "cell_type": "code",
   "execution_count": 150,
   "metadata": {},
   "outputs": [
    {
     "data": {
      "text/plain": [
       "(1010, 16)"
      ]
     },
     "execution_count": 150,
     "metadata": {},
     "output_type": "execute_result"
    }
   ],
   "source": [
    "p_df_subset.shape"
   ]
  },
  {
   "cell_type": "code",
   "execution_count": 152,
   "metadata": {},
   "outputs": [],
   "source": [
    "geometry = [Point(xy) for xy in zip(p_df['latitude'], p_df['longitude'])]\n",
    "geo_df = gpd.GeoDataFrame(p_df, crs='crs', geometry=geometry)\n",
    "\n"
   ]
  },
  {
   "cell_type": "code",
   "execution_count": 169,
   "metadata": {},
   "outputs": [
    {
     "data": {
      "text/html": [
       "<div>\n",
       "<style scoped>\n",
       "    .dataframe tbody tr th:only-of-type {\n",
       "        vertical-align: middle;\n",
       "    }\n",
       "\n",
       "    .dataframe tbody tr th {\n",
       "        vertical-align: top;\n",
       "    }\n",
       "\n",
       "    .dataframe thead th {\n",
       "        text-align: right;\n",
       "    }\n",
       "</style>\n",
       "<table border=\"1\" class=\"dataframe\">\n",
       "  <thead>\n",
       "    <tr style=\"text-align: right;\">\n",
       "      <th></th>\n",
       "      <th>tweet_id</th>\n",
       "      <th>time</th>\n",
       "      <th>favorite_counts</th>\n",
       "      <th>quoted_counts</th>\n",
       "      <th>tweet_text</th>\n",
       "      <th>user_id</th>\n",
       "      <th>user_name</th>\n",
       "      <th>place</th>\n",
       "      <th>country</th>\n",
       "      <th>longitude</th>\n",
       "      <th>latitude</th>\n",
       "      <th>Macron</th>\n",
       "      <th>Le Pen</th>\n",
       "      <th>date</th>\n",
       "      <th>year</th>\n",
       "      <th>day</th>\n",
       "      <th>geometry</th>\n",
       "    </tr>\n",
       "  </thead>\n",
       "  <tbody>\n",
       "    <tr>\n",
       "      <th>0</th>\n",
       "      <td>857225444831240193</td>\n",
       "      <td>Wed Apr 26 13:30:47 +0000 2017</td>\n",
       "      <td>0</td>\n",
       "      <td>16</td>\n",
       "      <td>La macronie En Marche ! commence déjà à s'écha...</td>\n",
       "      <td>273524713</td>\n",
       "      <td>VIAL Pierre</td>\n",
       "      <td>Gréoux-les-Bains</td>\n",
       "      <td>FR</td>\n",
       "      <td>43.718487</td>\n",
       "      <td>5.781315</td>\n",
       "      <td>1</td>\n",
       "      <td>0</td>\n",
       "      <td>[Apr, 26]</td>\n",
       "      <td>2017</td>\n",
       "      <td>26</td>\n",
       "      <td>POINT (5.78131 43.71849)</td>\n",
       "    </tr>\n",
       "    <tr>\n",
       "      <th>1</th>\n",
       "      <td>857225468659068929</td>\n",
       "      <td>Wed Apr 26 13:30:52 +0000 2017</td>\n",
       "      <td>0</td>\n",
       "      <td>51</td>\n",
       "      <td>Il  bégaye comme un petit qui s'est fait voler...</td>\n",
       "      <td>914331169</td>\n",
       "      <td>doublevé-haine-bae</td>\n",
       "      <td>Bonneuil-sur-Marne</td>\n",
       "      <td>FR</td>\n",
       "      <td>48.756695</td>\n",
       "      <td>2.471827</td>\n",
       "      <td>0</td>\n",
       "      <td>0</td>\n",
       "      <td>[Apr, 26]</td>\n",
       "      <td>2017</td>\n",
       "      <td>26</td>\n",
       "      <td>POINT (2.47183 48.75669)</td>\n",
       "    </tr>\n",
       "    <tr>\n",
       "      <th>2</th>\n",
       "      <td>857225470206758913</td>\n",
       "      <td>Wed Apr 26 13:30:53 +0000 2017</td>\n",
       "      <td>0</td>\n",
       "      <td>2</td>\n",
       "      <td>.@MaitreGims alors on joue les divas, on se pr...</td>\n",
       "      <td>599128359</td>\n",
       "      <td>Freddy</td>\n",
       "      <td>Avroult</td>\n",
       "      <td>FR</td>\n",
       "      <td>50.617062</td>\n",
       "      <td>2.124123</td>\n",
       "      <td>0</td>\n",
       "      <td>0</td>\n",
       "      <td>[Apr, 26]</td>\n",
       "      <td>2017</td>\n",
       "      <td>26</td>\n",
       "      <td>POINT (2.12412 50.61706)</td>\n",
       "    </tr>\n",
       "    <tr>\n",
       "      <th>3</th>\n",
       "      <td>857225535923126275</td>\n",
       "      <td>Wed Apr 26 13:31:08 +0000 2017</td>\n",
       "      <td>0</td>\n",
       "      <td>86</td>\n",
       "      <td>Je supporte pas ce genre de personnes https://...</td>\n",
       "      <td>559888628</td>\n",
       "      <td>Acram</td>\n",
       "      <td>Survilliers</td>\n",
       "      <td>FR</td>\n",
       "      <td>49.091446</td>\n",
       "      <td>2.530875</td>\n",
       "      <td>0</td>\n",
       "      <td>0</td>\n",
       "      <td>[Apr, 26]</td>\n",
       "      <td>2017</td>\n",
       "      <td>26</td>\n",
       "      <td>POINT (2.53087 49.09145)</td>\n",
       "    </tr>\n",
       "    <tr>\n",
       "      <th>4</th>\n",
       "      <td>857225601635274752</td>\n",
       "      <td>Wed Apr 26 13:31:24 +0000 2017</td>\n",
       "      <td>0</td>\n",
       "      <td>1</td>\n",
       "      <td>&amp;gt; all the #knitters say #ThankYou to you f ...</td>\n",
       "      <td>86313409</td>\n",
       "      <td>jacquie rinaldi</td>\n",
       "      <td>South West</td>\n",
       "      <td>GB</td>\n",
       "      <td>49.882473</td>\n",
       "      <td>-6.368504</td>\n",
       "      <td>0</td>\n",
       "      <td>0</td>\n",
       "      <td>[Apr, 26]</td>\n",
       "      <td>2017</td>\n",
       "      <td>26</td>\n",
       "      <td>POINT (-6.36850 49.88247)</td>\n",
       "    </tr>\n",
       "    <tr>\n",
       "      <th>...</th>\n",
       "      <td>...</td>\n",
       "      <td>...</td>\n",
       "      <td>...</td>\n",
       "      <td>...</td>\n",
       "      <td>...</td>\n",
       "      <td>...</td>\n",
       "      <td>...</td>\n",
       "      <td>...</td>\n",
       "      <td>...</td>\n",
       "      <td>...</td>\n",
       "      <td>...</td>\n",
       "      <td>...</td>\n",
       "      <td>...</td>\n",
       "      <td>...</td>\n",
       "      <td>...</td>\n",
       "      <td>...</td>\n",
       "      <td>...</td>\n",
       "    </tr>\n",
       "    <tr>\n",
       "      <th>25963</th>\n",
       "      <td>858183652219420672</td>\n",
       "      <td>Sat Apr 29 04:58:21 +0000 2017</td>\n",
       "      <td>0</td>\n",
       "      <td>112</td>\n",
       "      <td>Pour éviter les délocalisation #Le7MaiJeVoteMa...</td>\n",
       "      <td>3141038440</td>\n",
       "      <td>Raphael Goiset</td>\n",
       "      <td>Poids-de-Fiole</td>\n",
       "      <td>FR</td>\n",
       "      <td>46.580887</td>\n",
       "      <td>5.605082</td>\n",
       "      <td>0</td>\n",
       "      <td>1</td>\n",
       "      <td>[Apr, 29]</td>\n",
       "      <td>2017</td>\n",
       "      <td>29</td>\n",
       "      <td>POINT (5.60508 46.58089)</td>\n",
       "    </tr>\n",
       "    <tr>\n",
       "      <th>25964</th>\n",
       "      <td>858183993182883840</td>\n",
       "      <td>Sat Apr 29 04:59:42 +0000 2017</td>\n",
       "      <td>0</td>\n",
       "      <td>20</td>\n",
       "      <td>Quel ignominie ce principe de projet Pour Les ...</td>\n",
       "      <td>784045065920479233</td>\n",
       "      <td>Que vive la verité</td>\n",
       "      <td>Méry-sur-Oise</td>\n",
       "      <td>FR</td>\n",
       "      <td>49.031673</td>\n",
       "      <td>2.144700</td>\n",
       "      <td>0</td>\n",
       "      <td>0</td>\n",
       "      <td>[Apr, 29]</td>\n",
       "      <td>2017</td>\n",
       "      <td>29</td>\n",
       "      <td>POINT (2.14470 49.03167)</td>\n",
       "    </tr>\n",
       "    <tr>\n",
       "      <th>25965</th>\n",
       "      <td>858184056252616708</td>\n",
       "      <td>Sat Apr 29 04:59:57 +0000 2017</td>\n",
       "      <td>0</td>\n",
       "      <td>360</td>\n",
       "      <td>Le FN na pas besoin des insoumis! Il a le sout...</td>\n",
       "      <td>2394255489</td>\n",
       "      <td>#mb</td>\n",
       "      <td>Paris</td>\n",
       "      <td>FR</td>\n",
       "      <td>48.815521</td>\n",
       "      <td>2.224101</td>\n",
       "      <td>0</td>\n",
       "      <td>0</td>\n",
       "      <td>[Apr, 29]</td>\n",
       "      <td>2017</td>\n",
       "      <td>29</td>\n",
       "      <td>POINT (2.22410 48.81552)</td>\n",
       "    </tr>\n",
       "    <tr>\n",
       "      <th>25966</th>\n",
       "      <td>858184213710995457</td>\n",
       "      <td>Sat Apr 29 05:00:35 +0000 2017</td>\n",
       "      <td>0</td>\n",
       "      <td>436</td>\n",
       "      <td>La réalité va vite rattraper Monsieur le sous-...</td>\n",
       "      <td>273524713</td>\n",
       "      <td>VIAL Pierre</td>\n",
       "      <td>Gréoux-les-Bains</td>\n",
       "      <td>FR</td>\n",
       "      <td>43.718487</td>\n",
       "      <td>5.781315</td>\n",
       "      <td>0</td>\n",
       "      <td>0</td>\n",
       "      <td>[Apr, 29]</td>\n",
       "      <td>2017</td>\n",
       "      <td>29</td>\n",
       "      <td>POINT (5.78131 43.71849)</td>\n",
       "    </tr>\n",
       "    <tr>\n",
       "      <th>25967</th>\n",
       "      <td>858184374038278146</td>\n",
       "      <td>Sat Apr 29 05:01:13 +0000 2017</td>\n",
       "      <td>0</td>\n",
       "      <td>0</td>\n",
       "      <td>T'façon pour revoir Guillaume j'ai déjà perdu ...</td>\n",
       "      <td>719303621469462532</td>\n",
       "      <td>αмelιe|G.Pley♡Jαrry</td>\n",
       "      <td>Hérin</td>\n",
       "      <td>FR</td>\n",
       "      <td>50.339123</td>\n",
       "      <td>3.429662</td>\n",
       "      <td>0</td>\n",
       "      <td>0</td>\n",
       "      <td>[Apr, 29]</td>\n",
       "      <td>2017</td>\n",
       "      <td>29</td>\n",
       "      <td>POINT (3.42966 50.33912)</td>\n",
       "    </tr>\n",
       "  </tbody>\n",
       "</table>\n",
       "<p>25968 rows × 17 columns</p>\n",
       "</div>"
      ],
      "text/plain": [
       "                 tweet_id                            time  favorite_counts  \\\n",
       "0      857225444831240193  Wed Apr 26 13:30:47 +0000 2017                0   \n",
       "1      857225468659068929  Wed Apr 26 13:30:52 +0000 2017                0   \n",
       "2      857225470206758913  Wed Apr 26 13:30:53 +0000 2017                0   \n",
       "3      857225535923126275  Wed Apr 26 13:31:08 +0000 2017                0   \n",
       "4      857225601635274752  Wed Apr 26 13:31:24 +0000 2017                0   \n",
       "...                   ...                             ...              ...   \n",
       "25963  858183652219420672  Sat Apr 29 04:58:21 +0000 2017                0   \n",
       "25964  858183993182883840  Sat Apr 29 04:59:42 +0000 2017                0   \n",
       "25965  858184056252616708  Sat Apr 29 04:59:57 +0000 2017                0   \n",
       "25966  858184213710995457  Sat Apr 29 05:00:35 +0000 2017                0   \n",
       "25967  858184374038278146  Sat Apr 29 05:01:13 +0000 2017                0   \n",
       "\n",
       "       quoted_counts                                         tweet_text  \\\n",
       "0                 16  La macronie En Marche ! commence déjà à s'écha...   \n",
       "1                 51  Il  bégaye comme un petit qui s'est fait voler...   \n",
       "2                  2  .@MaitreGims alors on joue les divas, on se pr...   \n",
       "3                 86  Je supporte pas ce genre de personnes https://...   \n",
       "4                  1  &gt; all the #knitters say #ThankYou to you f ...   \n",
       "...              ...                                                ...   \n",
       "25963            112  Pour éviter les délocalisation #Le7MaiJeVoteMa...   \n",
       "25964             20  Quel ignominie ce principe de projet Pour Les ...   \n",
       "25965            360  Le FN na pas besoin des insoumis! Il a le sout...   \n",
       "25966            436  La réalité va vite rattraper Monsieur le sous-...   \n",
       "25967              0  T'façon pour revoir Guillaume j'ai déjà perdu ...   \n",
       "\n",
       "                  user_id            user_name               place country  \\\n",
       "0               273524713          VIAL Pierre    Gréoux-les-Bains      FR   \n",
       "1               914331169   doublevé-haine-bae  Bonneuil-sur-Marne      FR   \n",
       "2               599128359               Freddy             Avroult      FR   \n",
       "3               559888628                Acram         Survilliers      FR   \n",
       "4                86313409      jacquie rinaldi          South West      GB   \n",
       "...                   ...                  ...                 ...     ...   \n",
       "25963          3141038440       Raphael Goiset      Poids-de-Fiole      FR   \n",
       "25964  784045065920479233   Que vive la verité       Méry-sur-Oise      FR   \n",
       "25965          2394255489                  #mb               Paris      FR   \n",
       "25966           273524713          VIAL Pierre    Gréoux-les-Bains      FR   \n",
       "25967  719303621469462532  αмelιe|G.Pley♡Jαrry               Hérin      FR   \n",
       "\n",
       "       longitude  latitude  Macron  Le Pen       date  year day  \\\n",
       "0      43.718487  5.781315       1       0  [Apr, 26]  2017  26   \n",
       "1      48.756695  2.471827       0       0  [Apr, 26]  2017  26   \n",
       "2      50.617062  2.124123       0       0  [Apr, 26]  2017  26   \n",
       "3      49.091446  2.530875       0       0  [Apr, 26]  2017  26   \n",
       "4      49.882473 -6.368504       0       0  [Apr, 26]  2017  26   \n",
       "...          ...       ...     ...     ...        ...   ...  ..   \n",
       "25963  46.580887  5.605082       0       1  [Apr, 29]  2017  29   \n",
       "25964  49.031673  2.144700       0       0  [Apr, 29]  2017  29   \n",
       "25965  48.815521  2.224101       0       0  [Apr, 29]  2017  29   \n",
       "25966  43.718487  5.781315       0       0  [Apr, 29]  2017  29   \n",
       "25967  50.339123  3.429662       0       0  [Apr, 29]  2017  29   \n",
       "\n",
       "                        geometry  \n",
       "0       POINT (5.78131 43.71849)  \n",
       "1       POINT (2.47183 48.75669)  \n",
       "2       POINT (2.12412 50.61706)  \n",
       "3       POINT (2.53087 49.09145)  \n",
       "4      POINT (-6.36850 49.88247)  \n",
       "...                          ...  \n",
       "25963   POINT (5.60508 46.58089)  \n",
       "25964   POINT (2.14470 49.03167)  \n",
       "25965   POINT (2.22410 48.81552)  \n",
       "25966   POINT (5.78131 43.71849)  \n",
       "25967   POINT (3.42966 50.33912)  \n",
       "\n",
       "[25968 rows x 17 columns]"
      ]
     },
     "execution_count": 169,
     "metadata": {},
     "output_type": "execute_result"
    }
   ],
   "source": [
    "geo_df"
   ]
  },
  {
   "cell_type": "code",
   "execution_count": 153,
   "metadata": {},
   "outputs": [
    {
     "data": {
      "text/plain": [
       "[<shapely.geometry.point.Point at 0x7f5026639a90>,\n",
       " <shapely.geometry.point.Point at 0x7f5026639f98>,\n",
       " <shapely.geometry.point.Point at 0x7f5026639588>]"
      ]
     },
     "execution_count": 153,
     "metadata": {},
     "output_type": "execute_result"
    }
   ],
   "source": [
    "geometry[:3]"
   ]
  },
  {
   "cell_type": "code",
   "execution_count": 156,
   "metadata": {},
   "outputs": [
    {
     "data": {
      "text/plain": [
       "<matplotlib.axes._subplots.AxesSubplot at 0x7f502535b240>"
      ]
     },
     "execution_count": 156,
     "metadata": {},
     "output_type": "execute_result"
    },
    {
     "data": {
      "image/png": "[encoded data removed]",
      "text/plain": [
       "<Figure size 432x288 with 1 Axes>"
      ]
     },
     "metadata": {
      "needs_background": "light"
     },
     "output_type": "display_data"
    }
   ],
   "source": [
    "p_df.plot(x='latitude', y='longitude', kind='scatter')"
   ]
  },
  {
   "cell_type": "code",
   "execution_count": 157,
   "metadata": {},
   "outputs": [
    {
     "name": "stdout",
     "output_type": "stream",
     "text": [
      "/home/jovyan/work/tweet-spark/data/info\n"
     ]
    }
   ],
   "source": [
    "!pwd"
   ]
  },
  {
   "cell_type": "code",
   "execution_count": 163,
   "metadata": {},
   "outputs": [],
   "source": [
    "street_map = gpd.read_file('/home/jovyan/work/tweet-spark/data/FRA_ADM0.shp',SHAPE_RESTORE_SHX=True)"
   ]
  },
  {
   "cell_type": "code",
   "execution_count": 175,
   "metadata": {},
   "outputs": [],
   "source": [
    "street_map_1 = gpd.read_file('/home/jovyan/work/tweet-spark/data/fr_1km.shp')"
   ]
  },
  {
   "cell_type": "code",
   "execution_count": 166,
   "metadata": {},
   "outputs": [
    {
     "data": {
      "text/plain": [
       "<matplotlib.axes._subplots.AxesSubplot at 0x7f5060caa1d0>"
      ]
     },
     "execution_count": 166,
     "metadata": {},
     "output_type": "execute_result"
    },
    {
     "data": {
      "image/png": "[encoded data removed]",
      "text/plain": [
       "<Figure size 1080x1080 with 1 Axes>"
      ]
     },
     "metadata": {},
     "output_type": "display_data"
    }
   ],
   "source": [
    "fig, ax = plt.subplots(figsize = (15, 15))\n",
    "street_map.plot(ax=ax)"
   ]
  },
  {
   "cell_type": "code",
   "execution_count": 172,
   "metadata": {},
   "outputs": [
    {
     "data": {
      "image/png": "[encoded data removed]",
      "text/plain": [
       "<Figure size 1080x1080 with 1 Axes>"
      ]
     },
     "metadata": {},
     "output_type": "display_data"
    }
   ],
   "source": [
    "fig, ax = plt.subplots(figsize = (15, 15))\n",
    "street_map.plot(ax = ax, alpha = 1, color='grey')\n",
    "geo_df[geo_df['Macron']==1].plot(ax=ax, color=\"blue\", label = 'E_count', alpha = 0.02)\n",
    "geo_df[geo_df['Le Pen']==1].plot(ax=ax, color=\"red\", label = 'M_count', alpha = 0.02)\n",
    "plt.savefig('map.png')\n",
    "\n"
   ]
  }
 ],
 "metadata": {
  "kernelspec": {
   "display_name": "Python 3",
   "language": "python",
   "name": "python3"
  },
  "language_info": {
   "codemirror_mode": {
    "name": "ipython",
    "version": 3
   },
   "file_extension": ".py",
   "mimetype": "text/x-python",
   "name": "python",
   "nbconvert_exporter": "python",
   "pygments_lexer": "ipython3",
   "version": "3.7.3"
  }
 },
 "nbformat": 4,
 "nbformat_minor": 4
}
